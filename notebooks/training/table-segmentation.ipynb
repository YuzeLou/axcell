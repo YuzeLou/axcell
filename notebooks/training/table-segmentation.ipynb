{
 "cells": [
  {
   "cell_type": "markdown",
   "metadata": {},
   "source": [
    "# Table Segmentation Training\n",
    "\n",
    "This notebook shows how to train a table segmentation model on the **SegmentedTables** dataset. You can download the model weights at https://github.com/paperswithcode/axcell/releases/download/v1.0/models.tar.xz."
   ]
  },
  {
   "cell_type": "code",
   "execution_count": 2,
   "metadata": {},
   "outputs": [],
   "source": [
    "from axcell.helpers.datasets import read_tables_annotations\n",
    "from pathlib import Path\n",
    "import pandas as pd\n",
    "\n",
    "# V1_URL = 'https://github.com/paperswithcode/axcell/releases/download/v1.0/'\n",
    "# SEGMENTED_TABLES_URL = V1_URL + 'segmented-tables.json.xz'\n",
    "\n",
    "# segmented_tables_annotations = read_tables_annotations(SEGMENTED_TABLES_URL)\n",
    "proj_path = Path('/data/yuzelou/axcell')\n",
    "data_path = proj_path.parents[0] / 'data'"
   ]
  },
  {
   "cell_type": "code",
   "execution_count": 3,
   "metadata": {},
   "outputs": [],
   "source": [
    "from axcell.data.paper_collection import PaperCollection\n",
    "\n",
    "# SEGMENTED_TABLES_PAPERS = Path('/mnt/efs/pwc/data/arxiv/sources/segmented-tables/papers')\n",
    "# pc = PaperCollection.from_files(SEGMENTED_TABLES_PAPERS, annotations=segmented_tables_annotations.to_dict(orient='record'))\n",
    "\n",
    "\n",
    "pc = PaperCollection.from_pickle(data_path / 'mypapers_annotated.pkl')"
   ]
  },
  {
   "cell_type": "markdown",
   "metadata": {},
   "source": [
    "We convert papers and annotations into a dataframe with features: for each cell we get its content, row and column contexts, styles, references, etc. Additionally we query the elasticsearch instance with cell's content as query to search in a given paper for text fragments with this content. (Run `docker-compose up -d` from the `axcell` repository to start an elasticsearch instance.) We first ensure that all papers from `pc` are stored in the instance:"
   ]
  },
  {
   "cell_type": "code",
   "execution_count": 4,
   "metadata": {},
   "outputs": [],
   "source": [
    "from axcell.data.structure import CellEvidenceExtractor\n",
    "\n",
    "cell_evidences = CellEvidenceExtractor() # sets up elasticsearch connection on creation\n",
    "for paper in pc:\n",
    "    paper.text.save()"
   ]
  },
  {
   "cell_type": "code",
   "execution_count": 6,
   "metadata": {},
   "outputs": [],
   "source": [
    "from joblib import delayed, Parallel\n",
    "                \n",
    "def process_single(index):\n",
    "    cell_evidences = CellEvidenceExtractor()\n",
    "    paper = pc[index]\n",
    "    leaderboards = [table for table in paper.tables if 'leaderboard' in table.gold_tags.split(',')]\n",
    "    evidences = cell_evidences(paper, leaderboards, paper_limit=30, corpus_limit=0)\n",
    "    evidences['fold'] = paper.gold_tags\n",
    "    evidences.header.fillna('', inplace=True)\n",
    "    return evidences"
   ]
  },
  {
   "cell_type": "code",
   "execution_count": 7,
   "metadata": {},
   "outputs": [
    {
     "name": "stdout",
     "output_type": "stream",
     "text": [
      "CPU times: user 1.26 s, sys: 837 ms, total: 2.1 s\n",
      "Wall time: 34.5 s\n"
     ]
    }
   ],
   "source": [
    "%%time\n",
    "\n",
    "evidences = Parallel(backend='multiprocessing', n_jobs=-1)(delayed(process_single)(index) for index in range(len(pc)))"
   ]
  },
  {
   "cell_type": "code",
   "execution_count": 9,
   "metadata": {},
   "outputs": [],
   "source": [
    "evidences = pd.concat(evidences)\n",
    "evidences.to_pickle(data_path /'cell_evidences.pkl')"
   ]
  },
  {
   "cell_type": "code",
   "execution_count": 3,
   "metadata": {},
   "outputs": [],
   "source": [
    "evidences = pd.read_pickle(data_path /'cell_evidences.pkl')"
   ]
  },
  {
   "cell_type": "code",
   "execution_count": 4,
   "metadata": {},
   "outputs": [],
   "source": [
    "import pandas as pd\n",
    "import re\n",
    "from collections import OrderedDict\n",
    "from fastai.text import *\n",
    "from axcell.models.structure.structure_predictor import TableStructurePredictor\n",
    "\n",
    "\n",
    "# make sure the training dataframe is batch_size aligned\n",
    "def align_df(df, batch_size):\n",
    "    aligned_len = ( len(df) // batch_size ) * batch_size\n",
    "    return df.iloc[:aligned_len]\n",
    "\n",
    "\n",
    "def dataframes_to_databunch(base_path, train_df, valid_df, test_df, batch_size, processor):\n",
    "    columns = [\"label\", \"text\", \"cell_reference\", \"cell_styles\", \"cell_layout\", \"cell_content\", \"row_context\", \"col_context\"]\n",
    "    text_cols=[\"cell_styles\", \"cell_layout\", \"text\", \"cell_content\", \"row_context\", \"col_context\", \"cell_reference\"]\n",
    "    train_df, valid_df, test_df = train_df[columns], valid_df[columns], test_df[columns]\n",
    "    \n",
    "    label_cols = [\"label\"]\n",
    "    train_tl = TextList.from_df(train_df, base_path, cols=text_cols, processor=processor)\n",
    "    valid_tl = TextList.from_df(valid_df, base_path, cols=text_cols, processor=processor)\n",
    "    test_tl  = TextList.from_df(test_df,  base_path, cols=text_cols, processor=processor)\n",
    "    \n",
    "\n",
    "    src = ItemLists(base_path, train_tl, valid_tl)\\\n",
    "        .label_from_df(cols=label_cols)\n",
    "    src.add_test(test_tl)\n",
    "    \n",
    "    data_clas = src.databunch(bs=batch_size)\n",
    "    return data_clas\n",
    "\n",
    "def get_databunch(experiment, df, processor):\n",
    "    is_test = df.fold == experiment.test_split\n",
    "    is_valid = df.fold == experiment.valid_split\n",
    "    test_df_all = df[is_test].copy()\n",
    "    valid_df_all = df[is_valid].copy()\n",
    "    train_df_all = df[(~is_test) & (~is_valid)].copy()\n",
    "    train_df_all, valid_df_all, test_df_all = experiment.transform_df(train_df_all, valid_df_all, test_df_all)\n",
    "\n",
    "    train_df, train_df_num = TableStructurePredictor.keep_alphacells(train_df_all)\n",
    "    valid_df, valid_df_num = TableStructurePredictor.keep_alphacells(valid_df_all)\n",
    "    test_df, test_df_num = TableStructurePredictor.keep_alphacells(test_df_all)\n",
    "    train_df = align_df(train_df, experiment.BS)\n",
    "\n",
    "    data_clas = dataframes_to_databunch(BASE_DIR, train_df, valid_df, test_df, experiment.BS, processor)\n",
    "    return train_df, valid_df, test_df, data_clas"
   ]
  },
  {
   "cell_type": "code",
   "execution_count": 6,
   "metadata": {},
   "outputs": [],
   "source": [
    "from axcell.models.structure.experiment import experiments_grid\n",
    "from axcell.models.structure.ulmfit_experiment import ULMFiTExperiment\n",
    "\n",
    "\n",
    "EXPERIMENTS_DIR = './experiments/segmentation'\n",
    "BASE_DIR = Path('./models')\n",
    "\n",
    "processor = processor = SPProcessor(\n",
    "    sp_model=BASE_DIR / 'tmp' / 'spm.model',\n",
    "    sp_vocab=BASE_DIR / 'tmp' / 'spm.vocab',\n",
    "    mark_fields=True\n",
    ")\n",
    "\n",
    "\n",
    "experiment = ULMFiTExperiment(remove_num=False, drop_duplicates=False,\n",
    "    this_paper=True, merge_fragments=True, merge_type='concat',\n",
    "    evidence_source='text_highlited', split_btags=True, fixed_tokenizer=True,\n",
    "    fixed_this_paper=True, mask=True, evidence_limit=None, context_tokens=None,\n",
    "    lowercase=True, drop_mult=0.15, fp16=True, train_on_easy=False,\n",
    "    dataset=\"segmented-tables\",\n",
    "    test_split='speech_rec',\n",
    "    valid_split='img_class',\n",
    "    pretrained_lm='lm'\n",
    ")"
   ]
  },
  {
   "cell_type": "code",
   "execution_count": 7,
   "metadata": {},
   "outputs": [
    {
     "name": "stdout",
     "output_type": "stream",
     "text": [
      "Setting clas seed to 42\n"
     ]
    },
    {
     "data": {
      "text/html": [
       "<table border=\"1\" class=\"dataframe\">\n",
       "  <thead>\n",
       "    <tr style=\"text-align: left;\">\n",
       "      <th>epoch</th>\n",
       "      <th>train_loss</th>\n",
       "      <th>valid_loss</th>\n",
       "      <th>accuracy</th>\n",
       "      <th>time</th>\n",
       "    </tr>\n",
       "  </thead>\n",
       "  <tbody>\n",
       "    <tr>\n",
       "      <td>0</td>\n",
       "      <td>0.544938</td>\n",
       "      <td>0.923116</td>\n",
       "      <td>0.680765</td>\n",
       "      <td>00:52</td>\n",
       "    </tr>\n",
       "  </tbody>\n",
       "</table>"
      ],
      "text/plain": [
       "<IPython.core.display.HTML object>"
      ]
     },
     "metadata": {},
     "output_type": "display_data"
    },
    {
     "data": {
      "text/html": [
       "<table border=\"1\" class=\"dataframe\">\n",
       "  <thead>\n",
       "    <tr style=\"text-align: left;\">\n",
       "      <th>epoch</th>\n",
       "      <th>train_loss</th>\n",
       "      <th>valid_loss</th>\n",
       "      <th>accuracy</th>\n",
       "      <th>time</th>\n",
       "    </tr>\n",
       "  </thead>\n",
       "  <tbody>\n",
       "    <tr>\n",
       "      <td>0</td>\n",
       "      <td>0.363302</td>\n",
       "      <td>0.735967</td>\n",
       "      <td>0.756294</td>\n",
       "      <td>01:03</td>\n",
       "    </tr>\n",
       "  </tbody>\n",
       "</table>"
      ],
      "text/plain": [
       "<IPython.core.display.HTML object>"
      ]
     },
     "metadata": {},
     "output_type": "display_data"
    },
    {
     "data": {
      "text/html": [
       "<table border=\"1\" class=\"dataframe\">\n",
       "  <thead>\n",
       "    <tr style=\"text-align: left;\">\n",
       "      <th>epoch</th>\n",
       "      <th>train_loss</th>\n",
       "      <th>valid_loss</th>\n",
       "      <th>accuracy</th>\n",
       "      <th>time</th>\n",
       "    </tr>\n",
       "  </thead>\n",
       "  <tbody>\n",
       "    <tr>\n",
       "      <td>0</td>\n",
       "      <td>0.234859</td>\n",
       "      <td>0.628784</td>\n",
       "      <td>0.801611</td>\n",
       "      <td>01:59</td>\n",
       "    </tr>\n",
       "    <tr>\n",
       "      <td>1</td>\n",
       "      <td>0.177626</td>\n",
       "      <td>0.663931</td>\n",
       "      <td>0.808661</td>\n",
       "      <td>01:59</td>\n",
       "    </tr>\n",
       "    <tr>\n",
       "      <td>2</td>\n",
       "      <td>0.148152</td>\n",
       "      <td>0.700336</td>\n",
       "      <td>0.820745</td>\n",
       "      <td>01:59</td>\n",
       "    </tr>\n",
       "    <tr>\n",
       "      <td>3</td>\n",
       "      <td>0.087183</td>\n",
       "      <td>0.754452</td>\n",
       "      <td>0.815710</td>\n",
       "      <td>01:59</td>\n",
       "    </tr>\n",
       "    <tr>\n",
       "      <td>4</td>\n",
       "      <td>0.051878</td>\n",
       "      <td>1.069942</td>\n",
       "      <td>0.794562</td>\n",
       "      <td>01:59</td>\n",
       "    </tr>\n",
       "    <tr>\n",
       "      <td>5</td>\n",
       "      <td>0.033946</td>\n",
       "      <td>0.806247</td>\n",
       "      <td>0.833837</td>\n",
       "      <td>01:59</td>\n",
       "    </tr>\n",
       "    <tr>\n",
       "      <td>6</td>\n",
       "      <td>0.020649</td>\n",
       "      <td>0.831158</td>\n",
       "      <td>0.821752</td>\n",
       "      <td>01:59</td>\n",
       "    </tr>\n",
       "    <tr>\n",
       "      <td>7</td>\n",
       "      <td>0.015466</td>\n",
       "      <td>0.954704</td>\n",
       "      <td>0.813696</td>\n",
       "      <td>01:59</td>\n",
       "    </tr>\n",
       "  </tbody>\n",
       "</table>"
      ],
      "text/plain": [
       "<IPython.core.display.HTML object>"
      ]
     },
     "metadata": {},
     "output_type": "display_data"
    }
   ],
   "source": [
    "train_df, valid_df, test_df, data_clas = get_databunch(experiment, evidences, processor)\n",
    "model = experiment.get_trained_model(data_clas)\n",
    "# experiment.evaluate(model, train_df, valid_df, test_df)"
   ]
  },
  {
   "cell_type": "code",
   "execution_count": null,
   "metadata": {},
   "outputs": [],
   "source": [
    "from fastai.text import *\n",
    "from fastai.text.learner import _model_meta\n",
    "\n",
    "cfg = _model_meta[AWD_LSTM]['config_clas'].copy()\n",
    "cfg['n_layers'] = 3\n",
    "\n",
    "clas = text_classifier_learner(data_clas, AWD_LSTM, config=cfg, drop_mult=0.15, metrics=None)\n",
    "clas.load(proj_path / 'notebooks' / 'training' / 'experiments' / 'segmentation' / f'{valid_split}_{test_split}')"
   ]
  },
  {
   "cell_type": "code",
   "execution_count": 9,
   "metadata": {},
   "outputs": [],
   "source": [
    "experiment._model.save(proj_path / 'notebooks' / 'training' / 'experiments' / 'segmentation' / f\"{experiment.valid_split}_{experiment.test_split}\" )"
   ]
  },
  {
   "cell_type": "markdown",
   "metadata": {},
   "source": [
    "## Evaluate a model"
   ]
  },
  {
   "cell_type": "code",
   "execution_count": 20,
   "metadata": {},
   "outputs": [],
   "source": [
    "class Labels(Enum):\n",
    "    OTHER=0\n",
    "    DATASET=1\n",
    "    PAPER_MODEL=2\n",
    "    COMPETING_MODEL=3\n",
    "    METRIC=4\n",
    "    EMPTY=5\n",
    "\n",
    "label_map = {\n",
    "    \"dataset\": Labels.DATASET.value,\n",
    "    \"dataset-sub\": Labels.DATASET.value,\n",
    "    \"model-paper\": Labels.PAPER_MODEL.value,\n",
    "    \"model-best\": Labels.PAPER_MODEL.value,\n",
    "    \"model-ensemble\": Labels.PAPER_MODEL.value,\n",
    "    \"model-competing\": Labels.COMPETING_MODEL.value,\n",
    "    \"dataset-metric\": Labels.METRIC.value\n",
    "}\n",
    "\n",
    "label_map_reverse = {\n",
    "    0: \"other\",\n",
    "    1: \"dataset\",\n",
    "    2: \"model\",\n",
    "    3: \"model\",\n",
    "    4: \"metric\"\n",
    "}\n",
    "\n",
    "def process_probs(probs, df):\n",
    "    preds = np.argmax(probs, axis=1)\n",
    "    df['pred'] = preds\n",
    "    df['pred_class'] = df['pred'].apply(lambda x: label_map_reverse[x])\n",
    "    df['label_class'] = df['label'].apply(lambda x: label_map_reverse[x])\n",
    "    df['is_correct'] = df['pred_class'] == df['label_class']\n",
    "    return df\n",
    "\n",
    "def compute_f1(df):\n",
    "    return df['is_correct'].sum() / len(df['is_correct'])\n"
   ]
  },
  {
   "cell_type": "code",
   "execution_count": null,
   "metadata": {},
   "outputs": [],
   "source": []
  },
  {
   "cell_type": "code",
   "execution_count": 22,
   "metadata": {},
   "outputs": [],
   "source": [
    "test_probs = model.get_preds(ds_type=DatasetType.Test, ordered=True)[0].cpu().numpy()\n",
    "valid_probs = model.get_preds(ds_type=DatasetType.Valid, ordered=True)[0].cpu().numpy()\n",
    "\n",
    "valid_df = process_probs(valid_probs, valid_df)\n",
    "test_df = process_probs(test_probs, test_df)"
   ]
  },
  {
   "cell_type": "code",
   "execution_count": 23,
   "metadata": {},
   "outputs": [
    {
     "data": {
      "text/plain": [
       "0.8469284994964753"
      ]
     },
     "execution_count": 23,
     "metadata": {},
     "output_type": "execute_result"
    }
   ],
   "source": [
    "print(f\"valid micro f1: {compute_f1(valid_df)}\")\n",
    "print(f\"test micro f1: {compute_f1(test_df)}\")"
   ]
  },
  {
   "cell_type": "code",
   "execution_count": 41,
   "metadata": {},
   "outputs": [
    {
     "data": {
      "text/html": [
       "<div>\n",
       "<style scoped>\n",
       "    .dataframe tbody tr th:only-of-type {\n",
       "        vertical-align: middle;\n",
       "    }\n",
       "\n",
       "    .dataframe tbody tr th {\n",
       "        vertical-align: top;\n",
       "    }\n",
       "\n",
       "    .dataframe thead th {\n",
       "        text-align: right;\n",
       "    }\n",
       "</style>\n",
       "<table border=\"1\" class=\"dataframe\">\n",
       "  <thead>\n",
       "    <tr style=\"text-align: right;\">\n",
       "      <th></th>\n",
       "      <th>ext_id</th>\n",
       "      <th>cell_content</th>\n",
       "      <th>cell_type</th>\n",
       "      <th>row_context</th>\n",
       "      <th>col_context</th>\n",
       "      <th>cell_reference</th>\n",
       "      <th>cell_layout</th>\n",
       "      <th>cell_styles</th>\n",
       "      <th>text</th>\n",
       "      <th>label</th>\n",
       "      <th>pred</th>\n",
       "      <th>is_correct</th>\n",
       "      <th>pred_class</th>\n",
       "      <th>label_class</th>\n",
       "    </tr>\n",
       "  </thead>\n",
       "  <tbody>\n",
       "    <tr>\n",
       "      <th>2326</th>\n",
       "      <td>1904.03288v1/table_05.csv/0/3</td>\n",
       "      <td>dev-clean</td>\n",
       "      <td>dataset-sub</td>\n",
       "      <td>Model border E2E border LM border dev-clean bo...</td>\n",
       "      <td>dev-clean border 3.02 border 2.56 border - bor...</td>\n",
       "      <td>False</td>\n",
       "      <td>border-tt align-center</td>\n",
       "      <td>True</td>\n",
       "      <td>re-scale gradients glt before calculating the ...</td>\n",
       "      <td>1</td>\n",
       "      <td>0</td>\n",
       "      <td>False</td>\n",
       "      <td>other</td>\n",
       "      <td>dataset</td>\n",
       "    </tr>\n",
       "  </tbody>\n",
       "</table>\n",
       "</div>"
      ],
      "text/plain": [
       "                             ext_id cell_content    cell_type  \\\n",
       "2326  1904.03288v1/table_05.csv/0/3    dev-clean  dataset-sub   \n",
       "\n",
       "                                            row_context  \\\n",
       "2326  Model border E2E border LM border dev-clean bo...   \n",
       "\n",
       "                                            col_context cell_reference  \\\n",
       "2326  dev-clean border 3.02 border 2.56 border - bor...          False   \n",
       "\n",
       "                 cell_layout cell_styles  \\\n",
       "2326  border-tt align-center        True   \n",
       "\n",
       "                                                   text label  pred  \\\n",
       "2326  re-scale gradients glt before calculating the ...     1     0   \n",
       "\n",
       "      is_correct pred_class label_class  \n",
       "2326       False      other     dataset  "
      ]
     },
     "execution_count": 41,
     "metadata": {},
     "output_type": "execute_result"
    }
   ],
   "source": [
    "test_df[test_df['ext_id'] == \"1904.03288v1/table_05.csv/0/3\"]"
   ]
  },
  {
   "cell_type": "code",
   "execution_count": 40,
   "metadata": {},
   "outputs": [],
   "source": [
    "test_df[['ext_id', 'cell_content', 'label_class', 'pred_class', 'is_correct']].to_csv(proj_path / 'notebooks' / 'training' / 'experiments' / 'segmentation' / f'{valid_split}_{test_split}_testRst.csv', index=False)"
   ]
  },
  {
   "cell_type": "code",
   "execution_count": 14,
   "metadata": {
    "scrolled": false
   },
   "outputs": [
    {
     "name": "stdout",
     "output_type": "stream",
     "text": [
      "train dataset\n",
      " * accuracy: 0.997\n",
      " * μ-precision: 0.996\n",
      " * μ-recall: 1.000\n",
      "valid dataset\n",
      " * accuracy: 0.830\n",
      " * μ-precision: 0.858\n",
      " * μ-recall: 0.914\n",
      "test dataset\n",
      " * accuracy: 0.670\n",
      " * μ-precision: 0.616\n",
      " * μ-recall: 0.972\n"
     ]
    },
    {
     "data": {
      "image/png": "[encoded data removed]",
      "text/plain": [
       "<Figure size 720x720 with 2 Axes>"
      ]
     },
     "metadata": {
      "needs_background": "light"
     },
     "output_type": "display_data"
    },
    {
     "data": {
      "image/png": "[encoded data removed]",
      "text/plain": [
       "<Figure size 720x720 with 2 Axes>"
      ]
     },
     "metadata": {
      "needs_background": "light"
     },
     "output_type": "display_data"
    },
    {
     "data": {
      "image/png": "[encoded data removed]",
      "text/plain": [
       "<Figure size 720x720 with 2 Axes>"
      ]
     },
     "metadata": {
      "needs_background": "light"
     },
     "output_type": "display_data"
    }
   ],
   "source": [
    "experiment.show_results(full_cm=False)"
   ]
  }
 ],
 "metadata": {
  "interpreter": {
   "hash": "7a46fea6a1a28617e38ff022f6db3ee80e79a8d2d6b856a5e9a3d1c447c3e707"
  },
  "kernelspec": {
   "display_name": "Python 3.7.4 64-bit ('base': conda)",
   "language": "python",
   "name": "python3"
  },
  "language_info": {
   "codemirror_mode": {
    "name": "ipython",
    "version": 3
   },
   "file_extension": ".py",
   "mimetype": "text/x-python",
   "name": "python",
   "nbconvert_exporter": "python",
   "pygments_lexer": "ipython3",
   "version": "3.7.13"
  }
 },
 "nbformat": 4,
 "nbformat_minor": 2
}
